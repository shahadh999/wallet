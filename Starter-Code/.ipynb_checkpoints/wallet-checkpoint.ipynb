{
 "cells": [
  {
   "cell_type": "code",
   "execution_count": 19,
   "id": "71d330f4",
   "metadata": {},
   "outputs": [],
   "source": [
    "#Import dependencies\n",
    "import os \n",
    "from dotenv import load_dotenv\n",
    "from pathlib import Path\n",
    "from pprint import pprint\n",
    "\n",
    "\n",
    "from constants import *\n",
    "from web3 import Web3\n",
    "from eth_account import Account \n",
    "\n",
    "from web3.middleware import geth_poa_middleware\n",
    "from web3 import Web3, middleware, Account\n",
    "from web3.gas_strategies.time_based import medium_gas_price_strategy\n",
    "from web3.middleware import geth_poa_middleware\n",
    "\n",
    "from bit import PrivateKeyTestnet\n",
    "from bit.network import NetworkAPI\n",
    "\n",
    "import subprocess \n",
    "import json\n",
    "import os\n",
    "from dotenv import load_dotenv\n",
    "from constants import *\n",
    "from bit import Key, PrivateKey, PrivateKeyTestnet\n",
    "from bit.network import NetworkAPI\n",
    "from bit import *\n",
    "from web3 import Web3\n",
    "from eth_account import Account"
   ]
  },
  {
   "cell_type": "code",
   "execution_count": 41,
   "id": "7b5378f0",
   "metadata": {},
   "outputs": [
    {
     "name": "stdout",
     "output_type": "stream",
     "text": [
      "ritual jungle crack head imitate exotic someone reflect goddess dinner install leader\n"
     ]
    }
   ],
   "source": [
    "# connect to Web3\n",
    "w3 = Web3(Web3.HTTPProvider('http://127.0.0.1:8545'))\n",
    "\n",
    "# enable PoA middleware\n",
    "w3.middleware_onion.inject(geth_poa_middleware, layer=0)\n",
    "w3.eth.setGasPriceStrategy(medium_gas_price_strategy)\n",
    "\n",
    "# Loading EV\n",
    "load_dotenv()\n",
    "\n",
    "# Loading Mnemonic EV and (set this mnemonic as an environment variable, and include the one you generated as a fallback using)\n",
    "mnemonic = os.getenv('mnemonic', \"ritual jungle crack head imitate exotic someone reflect goddess dinner install leader\")\n",
    "print(mnemonic)\n",
    "\n",
    "# get mnemonic\n",
    "#mnemonic = os.getenv('mnemonic')\n",
    "\n",
    "# get coins from constants.py file\n",
    "#coin = BTC\n",
    "\n",
    "# print results\n",
    "#print(coins)\n",
    "#print()\n",
    "#print(type(mnemonic))"
   ]
  },
  {
   "cell_type": "code",
   "execution_count": 40,
   "id": "9655c4d9",
   "metadata": {},
   "outputs": [],
   "source": [
    "def derive_wallets(mnemonic, coin, numderive=3):\n",
    "    \"\"\"Use the subprocess library to call the php file script from Python\"\"\"\n",
    "    command = f'php ./hd-wallet-derive/hd-wallet-derive.php -g --mnemonic=\"{mnemonic}\" --numderive=\"{numderive}\" --coin=\"{coin}\" --format=json' \n",
    "    \n",
    "    p = subprocess.Popen(command, stdout=subprocess.PIPE, shell=True)\n",
    "    (output, err) = p.communicate()\n",
    "   \n",
    "    keys = json.loads(output)\n",
    "    return  keys"
   ]
  },
  {
   "cell_type": "code",
   "execution_count": 31,
   "id": "ad9ae420",
   "metadata": {},
   "outputs": [],
   "source": [
    "#Setting dictionary of coins to be used in the wallet\n",
    "coins = {\"eth\", \"btc-test\", \"btc\"}\n",
    "numderive = 3"
   ]
  },
  {
   "cell_type": "code",
   "execution_count": null,
   "id": "0fc010ec",
   "metadata": {},
   "outputs": [],
   "source": [
    "eth_PrivateKey = keys[\"eth\"][0]['privkey']\n",
    "btc_PrivateKey = keys['btc-test'][0]['privkey']\n",
    "\n",
    "\n",
    "print(json.dumps(eth_PrivateKey, indent=4, sort_keys=True))\n",
    "print(json.dumps(btc_PrivateKey, indent=4, sort_keys=True))"
   ]
  },
  {
   "cell_type": "code",
   "execution_count": 46,
   "id": "6ed6f236",
   "metadata": {},
   "outputs": [],
   "source": [
    "# func for coins\n",
    "def coins():\n",
    "    coin_dict = {}\n",
    "    \n",
    "    for i in coins:        \n",
    "        coin_dict[i] = derive_wallets(mnemonic, i, 3)        \n",
    "    return coin_dict"
   ]
  },
  {
   "cell_type": "code",
   "execution_count": 47,
   "id": "1c8faf6d",
   "metadata": {},
   "outputs": [],
   "source": [
    "# Create a function called `create_tx` that creates an unsigned transaction appropriate metadata.\n",
    "def create_tx(coin, account, to, amount):\n",
    "    if (coin == ETH):\n",
    "        return create_eth_tx(account, to, amount)\n",
    "    elif (coin ==BTCTEST):\n",
    "        return PrivateKeyTestnet.prepare_transaction(account.address, [(to, amount, BTC)])"
   ]
  },
  {
   "cell_type": "code",
   "execution_count": 48,
   "id": "e7660384",
   "metadata": {},
   "outputs": [],
   "source": [
    "def create_eth_tx(account, recipient, amount):\n",
    "    gasEstimate = w3.eth.estimateGas(\n",
    "        {\"from\": account.address, \"to\": recipient, \"value\": amount}\n",
    "    )\n",
    "    return {\n",
    "        \"chainId\":w3.eth.chain_id,\n",
    "        \"from\": account.address,\n",
    "        \"to\": recipient,\n",
    "        \"value\": amount,\n",
    "        \"gasPrice\": w3.eth.gasPrice,\n",
    "        \"gas\": gasEstimate,\n",
    "        \"nonce\": w3.eth.getTransactionCount(account.address),\n",
    "    }\n"
   ]
  },
  {
   "cell_type": "code",
   "execution_count": 49,
   "id": "237462a9",
   "metadata": {},
   "outputs": [],
   "source": [
    "# create the raw, unsigned transaction that contains all metadata needed to transact\n",
    "def create_tx(coin, account, to, amount):\n",
    "    if coin=='eth':\n",
    "        value = w3.toWei(amount, \"ether\")\n",
    "        gasEstimate = w3.eth.estimateGas({\"from\": account.address, \"to\": to, \"amount\": value})\n",
    "        return {\"from\": account.address,\n",
    "                \"to\": to,\n",
    "                \"value\": value,\n",
    "                \"gas\": gasEstimate,\n",
    "                \"gasPrice\": w3.eth.generateGasPrice(),\n",
    "                \"nonce\": w3.eth.getTransactionCount(account.address),\n",
    "                \"chainID\": w3.eth.chain_id}\n",
    "    \n",
    "    elif coin=='btc-test':        \n",
    "        return PrivateKeyTestnet.prepare_transaction(account.address, [(to, amount, BTC)])"
   ]
  },
  {
   "cell_type": "code",
   "execution_count": 50,
   "id": "9381b3a0",
   "metadata": {},
   "outputs": [],
   "source": [
    "# call `create_tx`, sign the transaction, then send it to the designated network    \n",
    "def send_tx(coin, account, to, amount):\n",
    "    if coin == ETH:\n",
    "        raw_tx = create_tx(coin, account.address, to, amount)\n",
    "        signed = account.signTransaction(raw_tx)\n",
    "        return w3.eth.sendRawTransaction(signed.rawTransaction)\n",
    "    if coin == BTCTEST:\n",
    "        raw_tx = create_tx(coin, account, to, amount)\n",
    "        signed = account.sign_transaction(raw_tx)\n",
    "        return NetworkAPI.broadcast_tx_testnet(signed)"
   ]
  },
  {
   "cell_type": "code",
   "execution_count": 53,
   "id": "851e41e6",
   "metadata": {},
   "outputs": [
    {
     "ename": "NameError",
     "evalue": "name 'Create_tx' is not defined",
     "output_type": "error",
     "traceback": [
      "\u001b[1;31m---------------------------------------------------------------------------\u001b[0m",
      "\u001b[1;31mNameError\u001b[0m                                 Traceback (most recent call last)",
      "\u001b[1;32m<ipython-input-53-4191e8b32e60>\u001b[0m in \u001b[0;36m<module>\u001b[1;34m\u001b[0m\n\u001b[1;32m----> 1\u001b[1;33m \u001b[0mCreate_tx\u001b[0m\u001b[1;33m(\u001b[0m\u001b[0mcoin\u001b[0m\u001b[1;33m,\u001b[0m \u001b[0maccount\u001b[0m\u001b[1;33m,\u001b[0m \u001b[0mto\u001b[0m \u001b[1;33m,\u001b[0m\u001b[1;33m)\u001b[0m\u001b[1;33m\u001b[0m\u001b[1;33m\u001b[0m\u001b[0m\n\u001b[0m\u001b[0;32m      2\u001b[0m coins = {ETH: derive_wallets(mnemonic, coin),\n\u001b[0;32m      3\u001b[0m          BTCTEST: derive_wallets(mnemonic, coin)}\n\u001b[0;32m      4\u001b[0m \u001b[1;33m\u001b[0m\u001b[0m\n\u001b[0;32m      5\u001b[0m \u001b[0mpprint\u001b[0m\u001b[1;33m(\u001b[0m\u001b[0mcoins\u001b[0m\u001b[1;33m)\u001b[0m\u001b[1;33m\u001b[0m\u001b[1;33m\u001b[0m\u001b[0m\n",
      "\u001b[1;31mNameError\u001b[0m: name 'Create_tx' is not defined"
     ]
    }
   ],
   "source": [
    "Create_tx(coin, account, to ,from)\n",
    "coins = {ETH: derive_wallets(mnemonic, coin),\n",
    "         BTCTEST: derive_wallets(mnemonic, coin)}\n",
    "\n",
    "pprint(coins)"
   ]
  },
  {
   "cell_type": "code",
   "execution_count": null,
   "id": "62106f29",
   "metadata": {},
   "outputs": [],
   "source": []
  }
 ],
 "metadata": {
  "kernelspec": {
   "display_name": "Python 3",
   "language": "python",
   "name": "python3"
  },
  "language_info": {
   "codemirror_mode": {
    "name": "ipython",
    "version": 3
   },
   "file_extension": ".py",
   "mimetype": "text/x-python",
   "name": "python",
   "nbconvert_exporter": "python",
   "pygments_lexer": "ipython3",
   "version": "3.8.5"
  }
 },
 "nbformat": 4,
 "nbformat_minor": 5
}
